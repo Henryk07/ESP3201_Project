{
 "cells": [
  {
   "cell_type": "markdown",
   "metadata": {},
   "source": [
    "## Neural Network Notebook ##\n",
    "\n",
    "A first draft of the neural network that will be used for the ECG classification project is described in this notebook.\n",
    "\n",
    "### Initialization ###\n",
    "\n",
    "We will train our model  with the help of the TensorFlow framework. If you had not installed TensorFlow yet, you can do it easily with the command pip install --upgrade tensorflow."
   ]
  },
  {
   "cell_type": "code",
   "execution_count": 1,
   "metadata": {},
   "outputs": [],
   "source": [
    "import matplotlib.pyplot as plt\n",
    "import numpy as np\n",
    "import os\n",
    "import PIL\n",
    "import tensorflow as tf\n",
    "import pathlib\n",
    "\n",
    "from tensorflow import keras\n"
   ]
  },
  {
   "cell_type": "markdown",
   "metadata": {},
   "source": [
    "### Part 1 : importing the data ###\n",
    "\n",
    "We start by importing our tests data. \n",
    "\n",
    "NOTE : training and testing datas can be in the same directory, we can seperate them directly with tensorflow.\n",
    "\n",
    "NOTE2 : \n",
    "What is batch size ? \n",
    "Batch size is the number of samples you put into for each training round.\n",
    "So for each epoch, you can split your training sets into multiple batches.\n",
    "For example, I have 1000 images.\n",
    "If I set my batch size to 1, then for each epoch (training round), my input into the network will be 1 x 1000 images.\n",
    "If set my batch size to 2, then it will be 2 x 500 images.\n",
    "Meaning, for each epoch, I will run two rounds, each round using 500 images.\n",
    "Step is just the learning rate that you use for your optimizer.\n",
    "Usually, we start with 0.001 or 0.01.\n",
    "\n",
    "NOTE3 : Augmentation method"
   ]
  },
  {
   "cell_type": "code",
   "execution_count": 25,
   "metadata": {},
   "outputs": [
    {
     "name": "stdout",
     "output_type": "stream",
     "text": [
      "Found 144 files belonging to 6 classes.\n",
      "Using 116 files for training.\n",
      "Found 144 files belonging to 6 classes.\n",
      "Using 28 files for validation.\n"
     ]
    },
    {
     "data": {
      "image/png": "[encoded data removed]",
      "text/plain": [
       "<Figure size 720x720 with 6 Axes>"
      ]
     },
     "metadata": {
      "needs_background": "light"
     },
     "output_type": "display_data"
    }
   ],
   "source": [
    "\n",
    "traindata=tf.keras.utils.image_dataset_from_directory(\n",
    "  \"Full_dataset\\ECG_Image_data_cb_bw\",\n",
    "  #\"Small_dataset\\S_datas_labels_cb_bw\",\n",
    "  labels='inferred',\n",
    "  class_names=[\"F\",\"M\",\"N\",\"Q\",\"S\",\"V\"],\n",
    "  validation_split=0.2,\n",
    "  subset=\"training\",\n",
    "  seed=123)\n",
    "\n",
    "valdata=tf.keras.utils.image_dataset_from_directory(\n",
    "  \"Full_dataset\\ECG_Image_data_cb_bw\",\n",
    "  #\"Small_dataset\\S_datas_labels_cb_bw\",\n",
    "  labels='inferred',\n",
    "  class_names=[\"F\",\"M\",\"N\",\"Q\",\"S\",\"V\"],\n",
    "  validation_split=0.2,\n",
    "  subset=\"validation\",\n",
    "  seed=123)\n",
    "\n",
    "\n",
    "plt.figure(figsize=(10, 10))\n",
    "for images, labels in traindata.take(1):\n",
    "  for i in range(6):\n",
    "    ax = plt.subplot(2, 3, i + 1)\n",
    "    plt.imshow(images[i].numpy().astype(\"uint8\"))\n",
    "    plt.title(traindata.class_names[labels[i]])\n",
    "    plt.axis(\"off\")\n",
    "\n"
   ]
  },
  {
   "cell_type": "code",
   "execution_count": 16,
   "metadata": {},
   "outputs": [
    {
     "name": "stdout",
     "output_type": "stream",
     "text": [
      "(32, 256, 256, 3)\n",
      "(32,)\n"
     ]
    }
   ],
   "source": [
    "for image_batch, labels_batch in traindata: \n",
    "    print(image_batch.shape)\n",
    "    print(labels_batch.shape)\n",
    "    break"
   ]
  },
  {
   "cell_type": "markdown",
   "metadata": {},
   "source": [
    "image_bacth shape (32,256,256,3) means a group of 32 images of size 256x256 and the last channel 3 corresponds to the RVB colors reference. \n",
    "labels_batch shape (32,) corresponds to the label of the 32 images. \n",
    "\n",
    "NOTE : Why 32 ???"
   ]
  },
  {
   "cell_type": "markdown",
   "metadata": {},
   "source": [
    "### Part 2 : pre-processing the data ###\n",
    "\n",
    "#### Data standardization ###\n",
    "\n",
    "For now, RVB channels are in [0,255] which is too large for a neural network. We will then normalize these values. \n",
    "\n",
    "NOTE : use only one channel for black and white pictures : search code to convert to black and white.\n",
    "\n",
    "NOTE 2 :  Rescaling the image can be directly implemented in the model by layer.Rescaling"
   ]
  },
  {
   "cell_type": "code",
   "execution_count": 26,
   "metadata": {},
   "outputs": [],
   "source": [
    "normalization_layer= tf.keras.layers.Rescaling(1./255)\n",
    "\n",
    "normtraindata=traindata.map(lambda x, y: (normalization_layer(x),y))"
   ]
  },
  {
   "cell_type": "markdown",
   "metadata": {},
   "source": [
    "### Part 3 :  creating the model ###\n",
    "\n",
    "In this part, we define important elements that will be used to build our model. \n",
    "\n",
    "NOTE : This model is the one used in the Image Classification tutorial from TensorFlow website, same for the compiler. NEED TO BE RETHINKED AND DISCUSSED. \n",
    "\n",
    "PADDING : start with 'Valid' --> 'Same', keep as much information as possible\n",
    "\n",
    "ACTIVATION function : can be changed also \n",
    "\n",
    "FLATTEN : flattening/mapping the pixels\n",
    "\n",
    "POOLING : change between Max/Average ?"
   ]
  },
  {
   "cell_type": "code",
   "execution_count": 27,
   "metadata": {},
   "outputs": [
    {
     "name": "stdout",
     "output_type": "stream",
     "text": [
      "Model: \"sequential_10\"\n",
      "_________________________________________________________________\n",
      " Layer (type)                Output Shape              Param #   \n",
      "=================================================================\n",
      " conv2d_35 (Conv2D)          (None, 256, 256, 16)      448       \n",
      "                                                                 \n",
      " max_pooling2d_35 (MaxPoolin  (None, 128, 128, 16)     0         \n",
      " g2D)                                                            \n",
      "                                                                 \n",
      " conv2d_36 (Conv2D)          (None, 128, 128, 32)      4640      \n",
      "                                                                 \n",
      " max_pooling2d_36 (MaxPoolin  (None, 64, 64, 32)       0         \n",
      " g2D)                                                            \n",
      "                                                                 \n",
      " conv2d_37 (Conv2D)          (None, 64, 64, 64)        18496     \n",
      "                                                                 \n",
      " max_pooling2d_37 (MaxPoolin  (None, 32, 32, 64)       0         \n",
      " g2D)                                                            \n",
      "                                                                 \n",
      " flatten_10 (Flatten)        (None, 65536)             0         \n",
      "                                                                 \n",
      " dense_20 (Dense)            (None, 128)               8388736   \n",
      "                                                                 \n",
      " batch_normalization_7 (Batc  (None, 128)              512       \n",
      " hNormalization)                                                 \n",
      "                                                                 \n",
      " dense_21 (Dense)            (None, 6)                 774       \n",
      "                                                                 \n",
      "=================================================================\n",
      "Total params: 8,413,606\n",
      "Trainable params: 8,413,350\n",
      "Non-trainable params: 256\n",
      "_________________________________________________________________\n"
     ]
    }
   ],
   "source": [
    "# Model Creation\n",
    "\n",
    "model= keras.Sequential([\n",
    "    keras.layers.Conv2D(16, 3, padding='same', activation='relu'), \n",
    "    keras.layers.MaxPooling2D(),\n",
    "    keras.layers.Conv2D(32, 3, padding='same', activation='relu'),\n",
    "    keras.layers.MaxPooling2D(),\n",
    "    keras.layers.Conv2D(64, 3, padding='same', activation='relu'),\n",
    "    keras.layers.MaxPooling2D(),\n",
    "    keras.layers.Flatten(),\n",
    "    keras.layers.Dense(128, activation='relu'),\n",
    "    keras.layers.BatchNormalization(),\n",
    "    keras.layers.Dense(6)\n",
    "])\n",
    "\n",
    "model.build((None,256,256,3))\n",
    "\n",
    "#Model Compiler\n",
    "model.compile(optimizer='RMSprop',\n",
    "              loss=tf.keras.losses.SparseCategoricalCrossentropy(from_logits=False),\n",
    "              metrics=['accuracy'])\n",
    "\n",
    "#Model summary \n",
    "model.summary()\n"
   ]
  },
  {
   "cell_type": "markdown",
   "metadata": {},
   "source": [
    "### Part 3 : training and testing ###\n",
    "\n",
    "Note : This code is taken from the TensorFlow tutorial page. "
   ]
  },
  {
   "cell_type": "code",
   "execution_count": 29,
   "metadata": {},
   "outputs": [
    {
     "name": "stdout",
     "output_type": "stream",
     "text": [
      "Epoch 1/30\n",
      "10/10 [==============================] - 5s 478ms/step - loss: 1.9425 - accuracy: 0.7328 - val_loss: 8.0064 - val_accuracy: 0.2143\n",
      "Epoch 2/30\n",
      "10/10 [==============================] - 5s 451ms/step - loss: 1.3424 - accuracy: 0.6552 - val_loss: 2.7607 - val_accuracy: 0.2143\n",
      "Epoch 3/30\n",
      "10/10 [==============================] - 4s 429ms/step - loss: 1.3370 - accuracy: 0.5690 - val_loss: 7.9891 - val_accuracy: 0.2143\n",
      "Epoch 4/30\n",
      "10/10 [==============================] - 4s 438ms/step - loss: 1.3034 - accuracy: 0.6724 - val_loss: 7.9484 - val_accuracy: 0.2143\n",
      "Epoch 5/30\n",
      "10/10 [==============================] - 4s 428ms/step - loss: 1.3656 - accuracy: 0.6724 - val_loss: 5.4158 - val_accuracy: 0.2143\n",
      "Epoch 6/30\n",
      " 7/10 [====================>.........] - ETA: 1s - loss: 1.8970 - accuracy: 0.6905"
     ]
    },
    {
     "ename": "KeyboardInterrupt",
     "evalue": "",
     "output_type": "error",
     "traceback": [
      "\u001b[1;31m---------------------------------------------------------------------------\u001b[0m",
      "\u001b[1;31mKeyboardInterrupt\u001b[0m                         Traceback (most recent call last)",
      "\u001b[1;32mc:\\Users\\valer\\OneDrive\\Documents\\NUS\\Machine Learning\\ESP3201_Project-1\\neuralnetwork.ipynb Cellule 12\u001b[0m in \u001b[0;36m<cell line: 2>\u001b[1;34m()\u001b[0m\n\u001b[0;32m      <a href='vscode-notebook-cell:/c%3A/Users/valer/OneDrive/Documents/NUS/Machine%20Learning/ESP3201_Project-1/neuralnetwork.ipynb#X14sZmlsZQ%3D%3D?line=0'>1</a>\u001b[0m epochs\u001b[39m=\u001b[39m \u001b[39m30\u001b[39m\n\u001b[1;32m----> <a href='vscode-notebook-cell:/c%3A/Users/valer/OneDrive/Documents/NUS/Machine%20Learning/ESP3201_Project-1/neuralnetwork.ipynb#X14sZmlsZQ%3D%3D?line=1'>2</a>\u001b[0m history \u001b[39m=\u001b[39m model\u001b[39m.\u001b[39;49mfit(\n\u001b[0;32m      <a href='vscode-notebook-cell:/c%3A/Users/valer/OneDrive/Documents/NUS/Machine%20Learning/ESP3201_Project-1/neuralnetwork.ipynb#X14sZmlsZQ%3D%3D?line=2'>3</a>\u001b[0m   normtraindata,\n\u001b[0;32m      <a href='vscode-notebook-cell:/c%3A/Users/valer/OneDrive/Documents/NUS/Machine%20Learning/ESP3201_Project-1/neuralnetwork.ipynb#X14sZmlsZQ%3D%3D?line=3'>4</a>\u001b[0m   validation_data\u001b[39m=\u001b[39;49mvaldata,\n\u001b[0;32m      <a href='vscode-notebook-cell:/c%3A/Users/valer/OneDrive/Documents/NUS/Machine%20Learning/ESP3201_Project-1/neuralnetwork.ipynb#X14sZmlsZQ%3D%3D?line=4'>5</a>\u001b[0m   epochs\u001b[39m=\u001b[39;49mepochs\n\u001b[0;32m      <a href='vscode-notebook-cell:/c%3A/Users/valer/OneDrive/Documents/NUS/Machine%20Learning/ESP3201_Project-1/neuralnetwork.ipynb#X14sZmlsZQ%3D%3D?line=5'>6</a>\u001b[0m )\n\u001b[0;32m      <a href='vscode-notebook-cell:/c%3A/Users/valer/OneDrive/Documents/NUS/Machine%20Learning/ESP3201_Project-1/neuralnetwork.ipynb#X14sZmlsZQ%3D%3D?line=7'>8</a>\u001b[0m acc \u001b[39m=\u001b[39m history\u001b[39m.\u001b[39mhistory[\u001b[39m'\u001b[39m\u001b[39maccuracy\u001b[39m\u001b[39m'\u001b[39m]\n\u001b[0;32m      <a href='vscode-notebook-cell:/c%3A/Users/valer/OneDrive/Documents/NUS/Machine%20Learning/ESP3201_Project-1/neuralnetwork.ipynb#X14sZmlsZQ%3D%3D?line=8'>9</a>\u001b[0m val_acc \u001b[39m=\u001b[39m history\u001b[39m.\u001b[39mhistory[\u001b[39m'\u001b[39m\u001b[39mval_accuracy\u001b[39m\u001b[39m'\u001b[39m]\n",
      "File \u001b[1;32m~\\AppData\\Roaming\\Python\\Python39\\site-packages\\keras\\utils\\traceback_utils.py:65\u001b[0m, in \u001b[0;36mfilter_traceback.<locals>.error_handler\u001b[1;34m(*args, **kwargs)\u001b[0m\n\u001b[0;32m     63\u001b[0m filtered_tb \u001b[39m=\u001b[39m \u001b[39mNone\u001b[39;00m\n\u001b[0;32m     64\u001b[0m \u001b[39mtry\u001b[39;00m:\n\u001b[1;32m---> 65\u001b[0m     \u001b[39mreturn\u001b[39;00m fn(\u001b[39m*\u001b[39margs, \u001b[39m*\u001b[39m\u001b[39m*\u001b[39mkwargs)\n\u001b[0;32m     66\u001b[0m \u001b[39mexcept\u001b[39;00m \u001b[39mException\u001b[39;00m \u001b[39mas\u001b[39;00m e:\n\u001b[0;32m     67\u001b[0m     filtered_tb \u001b[39m=\u001b[39m _process_traceback_frames(e\u001b[39m.\u001b[39m__traceback__)\n",
      "File \u001b[1;32m~\\AppData\\Roaming\\Python\\Python39\\site-packages\\keras\\engine\\training.py:1564\u001b[0m, in \u001b[0;36mModel.fit\u001b[1;34m(self, x, y, batch_size, epochs, verbose, callbacks, validation_split, validation_data, shuffle, class_weight, sample_weight, initial_epoch, steps_per_epoch, validation_steps, validation_batch_size, validation_freq, max_queue_size, workers, use_multiprocessing)\u001b[0m\n\u001b[0;32m   1556\u001b[0m \u001b[39mwith\u001b[39;00m tf\u001b[39m.\u001b[39mprofiler\u001b[39m.\u001b[39mexperimental\u001b[39m.\u001b[39mTrace(\n\u001b[0;32m   1557\u001b[0m     \u001b[39m\"\u001b[39m\u001b[39mtrain\u001b[39m\u001b[39m\"\u001b[39m,\n\u001b[0;32m   1558\u001b[0m     epoch_num\u001b[39m=\u001b[39mepoch,\n\u001b[1;32m   (...)\u001b[0m\n\u001b[0;32m   1561\u001b[0m     _r\u001b[39m=\u001b[39m\u001b[39m1\u001b[39m,\n\u001b[0;32m   1562\u001b[0m ):\n\u001b[0;32m   1563\u001b[0m     callbacks\u001b[39m.\u001b[39mon_train_batch_begin(step)\n\u001b[1;32m-> 1564\u001b[0m     tmp_logs \u001b[39m=\u001b[39m \u001b[39mself\u001b[39;49m\u001b[39m.\u001b[39;49mtrain_function(iterator)\n\u001b[0;32m   1565\u001b[0m     \u001b[39mif\u001b[39;00m data_handler\u001b[39m.\u001b[39mshould_sync:\n\u001b[0;32m   1566\u001b[0m         context\u001b[39m.\u001b[39masync_wait()\n",
      "File \u001b[1;32m~\\AppData\\Roaming\\Python\\Python39\\site-packages\\tensorflow\\python\\util\\traceback_utils.py:150\u001b[0m, in \u001b[0;36mfilter_traceback.<locals>.error_handler\u001b[1;34m(*args, **kwargs)\u001b[0m\n\u001b[0;32m    148\u001b[0m filtered_tb \u001b[39m=\u001b[39m \u001b[39mNone\u001b[39;00m\n\u001b[0;32m    149\u001b[0m \u001b[39mtry\u001b[39;00m:\n\u001b[1;32m--> 150\u001b[0m   \u001b[39mreturn\u001b[39;00m fn(\u001b[39m*\u001b[39margs, \u001b[39m*\u001b[39m\u001b[39m*\u001b[39mkwargs)\n\u001b[0;32m    151\u001b[0m \u001b[39mexcept\u001b[39;00m \u001b[39mException\u001b[39;00m \u001b[39mas\u001b[39;00m e:\n\u001b[0;32m    152\u001b[0m   filtered_tb \u001b[39m=\u001b[39m _process_traceback_frames(e\u001b[39m.\u001b[39m__traceback__)\n",
      "File \u001b[1;32m~\\AppData\\Roaming\\Python\\Python39\\site-packages\\tensorflow\\python\\eager\\def_function.py:915\u001b[0m, in \u001b[0;36mFunction.__call__\u001b[1;34m(self, *args, **kwds)\u001b[0m\n\u001b[0;32m    912\u001b[0m compiler \u001b[39m=\u001b[39m \u001b[39m\"\u001b[39m\u001b[39mxla\u001b[39m\u001b[39m\"\u001b[39m \u001b[39mif\u001b[39;00m \u001b[39mself\u001b[39m\u001b[39m.\u001b[39m_jit_compile \u001b[39melse\u001b[39;00m \u001b[39m\"\u001b[39m\u001b[39mnonXla\u001b[39m\u001b[39m\"\u001b[39m\n\u001b[0;32m    914\u001b[0m \u001b[39mwith\u001b[39;00m OptionalXlaContext(\u001b[39mself\u001b[39m\u001b[39m.\u001b[39m_jit_compile):\n\u001b[1;32m--> 915\u001b[0m   result \u001b[39m=\u001b[39m \u001b[39mself\u001b[39m\u001b[39m.\u001b[39m_call(\u001b[39m*\u001b[39margs, \u001b[39m*\u001b[39m\u001b[39m*\u001b[39mkwds)\n\u001b[0;32m    917\u001b[0m new_tracing_count \u001b[39m=\u001b[39m \u001b[39mself\u001b[39m\u001b[39m.\u001b[39mexperimental_get_tracing_count()\n\u001b[0;32m    918\u001b[0m without_tracing \u001b[39m=\u001b[39m (tracing_count \u001b[39m==\u001b[39m new_tracing_count)\n",
      "File \u001b[1;32m~\\AppData\\Roaming\\Python\\Python39\\site-packages\\tensorflow\\python\\eager\\def_function.py:947\u001b[0m, in \u001b[0;36mFunction._call\u001b[1;34m(self, *args, **kwds)\u001b[0m\n\u001b[0;32m    944\u001b[0m   \u001b[39mself\u001b[39m\u001b[39m.\u001b[39m_lock\u001b[39m.\u001b[39mrelease()\n\u001b[0;32m    945\u001b[0m   \u001b[39m# In this case we have created variables on the first call, so we run the\u001b[39;00m\n\u001b[0;32m    946\u001b[0m   \u001b[39m# defunned version which is guaranteed to never create variables.\u001b[39;00m\n\u001b[1;32m--> 947\u001b[0m   \u001b[39mreturn\u001b[39;00m \u001b[39mself\u001b[39m\u001b[39m.\u001b[39m_stateless_fn(\u001b[39m*\u001b[39margs, \u001b[39m*\u001b[39m\u001b[39m*\u001b[39mkwds)  \u001b[39m# pylint: disable=not-callable\u001b[39;00m\n\u001b[0;32m    948\u001b[0m \u001b[39melif\u001b[39;00m \u001b[39mself\u001b[39m\u001b[39m.\u001b[39m_stateful_fn \u001b[39mis\u001b[39;00m \u001b[39mnot\u001b[39;00m \u001b[39mNone\u001b[39;00m:\n\u001b[0;32m    949\u001b[0m   \u001b[39m# Release the lock early so that multiple threads can perform the call\u001b[39;00m\n\u001b[0;32m    950\u001b[0m   \u001b[39m# in parallel.\u001b[39;00m\n\u001b[0;32m    951\u001b[0m   \u001b[39mself\u001b[39m\u001b[39m.\u001b[39m_lock\u001b[39m.\u001b[39mrelease()\n",
      "File \u001b[1;32m~\\AppData\\Roaming\\Python\\Python39\\site-packages\\tensorflow\\python\\eager\\function.py:2496\u001b[0m, in \u001b[0;36mFunction.__call__\u001b[1;34m(self, *args, **kwargs)\u001b[0m\n\u001b[0;32m   2493\u001b[0m \u001b[39mwith\u001b[39;00m \u001b[39mself\u001b[39m\u001b[39m.\u001b[39m_lock:\n\u001b[0;32m   2494\u001b[0m   (graph_function,\n\u001b[0;32m   2495\u001b[0m    filtered_flat_args) \u001b[39m=\u001b[39m \u001b[39mself\u001b[39m\u001b[39m.\u001b[39m_maybe_define_function(args, kwargs)\n\u001b[1;32m-> 2496\u001b[0m \u001b[39mreturn\u001b[39;00m graph_function\u001b[39m.\u001b[39;49m_call_flat(\n\u001b[0;32m   2497\u001b[0m     filtered_flat_args, captured_inputs\u001b[39m=\u001b[39;49mgraph_function\u001b[39m.\u001b[39;49mcaptured_inputs)\n",
      "File \u001b[1;32m~\\AppData\\Roaming\\Python\\Python39\\site-packages\\tensorflow\\python\\eager\\function.py:1862\u001b[0m, in \u001b[0;36mConcreteFunction._call_flat\u001b[1;34m(self, args, captured_inputs, cancellation_manager)\u001b[0m\n\u001b[0;32m   1858\u001b[0m possible_gradient_type \u001b[39m=\u001b[39m gradients_util\u001b[39m.\u001b[39mPossibleTapeGradientTypes(args)\n\u001b[0;32m   1859\u001b[0m \u001b[39mif\u001b[39;00m (possible_gradient_type \u001b[39m==\u001b[39m gradients_util\u001b[39m.\u001b[39mPOSSIBLE_GRADIENT_TYPES_NONE\n\u001b[0;32m   1860\u001b[0m     \u001b[39mand\u001b[39;00m executing_eagerly):\n\u001b[0;32m   1861\u001b[0m   \u001b[39m# No tape is watching; skip to running the function.\u001b[39;00m\n\u001b[1;32m-> 1862\u001b[0m   \u001b[39mreturn\u001b[39;00m \u001b[39mself\u001b[39m\u001b[39m.\u001b[39m_build_call_outputs(\u001b[39mself\u001b[39;49m\u001b[39m.\u001b[39;49m_inference_function\u001b[39m.\u001b[39;49mcall(\n\u001b[0;32m   1863\u001b[0m       ctx, args, cancellation_manager\u001b[39m=\u001b[39;49mcancellation_manager))\n\u001b[0;32m   1864\u001b[0m forward_backward \u001b[39m=\u001b[39m \u001b[39mself\u001b[39m\u001b[39m.\u001b[39m_select_forward_and_backward_functions(\n\u001b[0;32m   1865\u001b[0m     args,\n\u001b[0;32m   1866\u001b[0m     possible_gradient_type,\n\u001b[0;32m   1867\u001b[0m     executing_eagerly)\n\u001b[0;32m   1868\u001b[0m forward_function, args_with_tangents \u001b[39m=\u001b[39m forward_backward\u001b[39m.\u001b[39mforward()\n",
      "File \u001b[1;32m~\\AppData\\Roaming\\Python\\Python39\\site-packages\\tensorflow\\python\\eager\\function.py:499\u001b[0m, in \u001b[0;36m_EagerDefinedFunction.call\u001b[1;34m(self, ctx, args, cancellation_manager)\u001b[0m\n\u001b[0;32m    497\u001b[0m \u001b[39mwith\u001b[39;00m _InterpolateFunctionError(\u001b[39mself\u001b[39m):\n\u001b[0;32m    498\u001b[0m   \u001b[39mif\u001b[39;00m cancellation_manager \u001b[39mis\u001b[39;00m \u001b[39mNone\u001b[39;00m:\n\u001b[1;32m--> 499\u001b[0m     outputs \u001b[39m=\u001b[39m execute\u001b[39m.\u001b[39;49mexecute(\n\u001b[0;32m    500\u001b[0m         \u001b[39mstr\u001b[39;49m(\u001b[39mself\u001b[39;49m\u001b[39m.\u001b[39;49msignature\u001b[39m.\u001b[39;49mname),\n\u001b[0;32m    501\u001b[0m         num_outputs\u001b[39m=\u001b[39;49m\u001b[39mself\u001b[39;49m\u001b[39m.\u001b[39;49m_num_outputs,\n\u001b[0;32m    502\u001b[0m         inputs\u001b[39m=\u001b[39;49margs,\n\u001b[0;32m    503\u001b[0m         attrs\u001b[39m=\u001b[39;49mattrs,\n\u001b[0;32m    504\u001b[0m         ctx\u001b[39m=\u001b[39;49mctx)\n\u001b[0;32m    505\u001b[0m   \u001b[39melse\u001b[39;00m:\n\u001b[0;32m    506\u001b[0m     outputs \u001b[39m=\u001b[39m execute\u001b[39m.\u001b[39mexecute_with_cancellation(\n\u001b[0;32m    507\u001b[0m         \u001b[39mstr\u001b[39m(\u001b[39mself\u001b[39m\u001b[39m.\u001b[39msignature\u001b[39m.\u001b[39mname),\n\u001b[0;32m    508\u001b[0m         num_outputs\u001b[39m=\u001b[39m\u001b[39mself\u001b[39m\u001b[39m.\u001b[39m_num_outputs,\n\u001b[1;32m   (...)\u001b[0m\n\u001b[0;32m    511\u001b[0m         ctx\u001b[39m=\u001b[39mctx,\n\u001b[0;32m    512\u001b[0m         cancellation_manager\u001b[39m=\u001b[39mcancellation_manager)\n",
      "File \u001b[1;32m~\\AppData\\Roaming\\Python\\Python39\\site-packages\\tensorflow\\python\\eager\\execute.py:54\u001b[0m, in \u001b[0;36mquick_execute\u001b[1;34m(op_name, num_outputs, inputs, attrs, ctx, name)\u001b[0m\n\u001b[0;32m     52\u001b[0m \u001b[39mtry\u001b[39;00m:\n\u001b[0;32m     53\u001b[0m   ctx\u001b[39m.\u001b[39mensure_initialized()\n\u001b[1;32m---> 54\u001b[0m   tensors \u001b[39m=\u001b[39m pywrap_tfe\u001b[39m.\u001b[39;49mTFE_Py_Execute(ctx\u001b[39m.\u001b[39;49m_handle, device_name, op_name,\n\u001b[0;32m     55\u001b[0m                                       inputs, attrs, num_outputs)\n\u001b[0;32m     56\u001b[0m \u001b[39mexcept\u001b[39;00m core\u001b[39m.\u001b[39m_NotOkStatusException \u001b[39mas\u001b[39;00m e:\n\u001b[0;32m     57\u001b[0m   \u001b[39mif\u001b[39;00m name \u001b[39mis\u001b[39;00m \u001b[39mnot\u001b[39;00m \u001b[39mNone\u001b[39;00m:\n",
      "\u001b[1;31mKeyboardInterrupt\u001b[0m: "
     ]
    }
   ],
   "source": [
    "epochs= 50\n",
    "history = model.fit(\n",
    "  normtraindata,\n",
    "  validation_data=valdata,\n",
    "  epochs=epochs\n",
    ")\n",
    "\n",
    "acc = history.history['accuracy']\n",
    "val_acc = history.history['val_accuracy']\n",
    "\n",
    "loss = history.history['loss']\n",
    "val_loss = history.history['val_loss']\n",
    "\n",
    "epochs_range = range(epochs)\n",
    "\n",
    "model.save(\"model/model_50E_8_2_bw.h5\")\n",
    "\n",
    "plt.figure(figsize=(8, 8))\n",
    "plt.subplot(1, 2, 1)\n",
    "plt.plot(epochs_range, acc, label='Training Accuracy')\n",
    "plt.plot(epochs_range, val_acc, label='Validation Accuracy')\n",
    "plt.legend(loc='lower right')\n",
    "plt.title('Training and Validation Accuracy')\n",
    "\n",
    "plt.subplot(1, 2, 2)\n",
    "plt.plot(epochs_range, loss, label='Training Loss')\n",
    "plt.plot(epochs_range, val_loss, label='Validation Loss')\n",
    "plt.legend(loc='upper right')\n",
    "plt.title('Training and Validation Loss')\n",
    "plt.show()\n",
    "\n"
   ]
  },
  {
   "cell_type": "markdown",
   "metadata": {},
   "source": [
    "### Part 4 : Testing a random image on the model ###\n",
    "\n",
    "Very simple code to quickly test some predictions on our model. Has to be improved. "
   ]
  },
  {
   "cell_type": "code",
   "execution_count": null,
   "metadata": {},
   "outputs": [
    {
     "name": "stdout",
     "output_type": "stream",
     "text": [
      "Found 6 files belonging to 6 classes.\n",
      "[4, 0, 5, 2, 3, 1]\n",
      "1/1 [==============================] - 0s 66ms/step\n",
      "Image 0 is disease M but should be S\n",
      "Image 1 is disease Q but should be F\n",
      "Image 2 is disease S but should be V\n",
      "Image 3 is disease Q but should be N\n",
      "Image 4 is disease F but should be Q\n",
      "Image 5 is disease N but should be M\n",
      "[[ 1360.6224   7387.3823   1848.4061   2614.4507   3326.119    3343.976  ]\n",
      " [  580.7877   1238.7675   3266.6072   5885.42     1601.4751   4693.0864 ]\n",
      " [-1823.8557   3855.965     343.39365  4202.507    8856.944    4098.0806 ]\n",
      " [  368.47232  2196.679    2048.9124   5287.574    1463.9518   2708.1418 ]\n",
      " [ 6283.776    -473.82742  2260.1033    529.5229   -252.67456  1421.6614 ]\n",
      " [ 1806.655    2655.4146   4409.145    1309.2714    743.7094   1856.7938 ]]\n"
     ]
    },
    {
     "ename": "InvalidArgumentError",
     "evalue": "`predictions` contains negative values.  \nCondition x >= 0 did not hold element-wise:\nx (shape=(6, 6) dtype=int64) = \n['1360', '7387', '1848', '...']",
     "output_type": "error",
     "traceback": [
      "\u001b[1;31m---------------------------------------------------------------------------\u001b[0m",
      "\u001b[1;31mInvalidArgumentError\u001b[0m                      Traceback (most recent call last)",
      "\u001b[1;32mc:\\Users\\valer\\OneDrive\\Documents\\NUS\\Machine Learning\\ESP3201_Project-1\\neuralnetwork.ipynb Cellule 14\u001b[0m in \u001b[0;36m<cell line: 22>\u001b[1;34m()\u001b[0m\n\u001b[0;32m     <a href='vscode-notebook-cell:/c%3A/Users/valer/OneDrive/Documents/NUS/Machine%20Learning/ESP3201_Project-1/neuralnetwork.ipynb#X16sZmlsZQ%3D%3D?line=18'>19</a>\u001b[0m     \u001b[39mprint\u001b[39m(\u001b[39mf\u001b[39m\u001b[39m\"\u001b[39m\u001b[39mImage \u001b[39m\u001b[39m{\u001b[39;00mi\u001b[39m}\u001b[39;00m\u001b[39m is disease \u001b[39m\u001b[39m\"\u001b[39m\u001b[39m+\u001b[39m\u001b[39mdict\u001b[39m[clas] \u001b[39m+\u001b[39m\u001b[39m\"\u001b[39m\u001b[39m but should be \u001b[39m\u001b[39m\"\u001b[39m\u001b[39m+\u001b[39m\u001b[39mdict\u001b[39m[labels_brut[i]]) \n\u001b[0;32m     <a href='vscode-notebook-cell:/c%3A/Users/valer/OneDrive/Documents/NUS/Machine%20Learning/ESP3201_Project-1/neuralnetwork.ipynb#X16sZmlsZQ%3D%3D?line=20'>21</a>\u001b[0m \u001b[39mprint\u001b[39m(prediction)\n\u001b[1;32m---> <a href='vscode-notebook-cell:/c%3A/Users/valer/OneDrive/Documents/NUS/Machine%20Learning/ESP3201_Project-1/neuralnetwork.ipynb#X16sZmlsZQ%3D%3D?line=21'>22</a>\u001b[0m tf\u001b[39m.\u001b[39;49mmath\u001b[39m.\u001b[39;49mconfusion_matrix(labels,prediction)\n",
      "File \u001b[1;32m~\\AppData\\Roaming\\Python\\Python39\\site-packages\\tensorflow\\python\\util\\traceback_utils.py:153\u001b[0m, in \u001b[0;36mfilter_traceback.<locals>.error_handler\u001b[1;34m(*args, **kwargs)\u001b[0m\n\u001b[0;32m    151\u001b[0m \u001b[39mexcept\u001b[39;00m \u001b[39mException\u001b[39;00m \u001b[39mas\u001b[39;00m e:\n\u001b[0;32m    152\u001b[0m   filtered_tb \u001b[39m=\u001b[39m _process_traceback_frames(e\u001b[39m.\u001b[39m__traceback__)\n\u001b[1;32m--> 153\u001b[0m   \u001b[39mraise\u001b[39;00m e\u001b[39m.\u001b[39mwith_traceback(filtered_tb) \u001b[39mfrom\u001b[39;00m \u001b[39mNone\u001b[39m\n\u001b[0;32m    154\u001b[0m \u001b[39mfinally\u001b[39;00m:\n\u001b[0;32m    155\u001b[0m   \u001b[39mdel\u001b[39;00m filtered_tb\n",
      "File \u001b[1;32m~\\AppData\\Roaming\\Python\\Python39\\site-packages\\tensorflow\\python\\ops\\check_ops.py:407\u001b[0m, in \u001b[0;36m_binary_assert\u001b[1;34m(sym, opname, op_func, static_func, x, y, data, summarize, message, name)\u001b[0m\n\u001b[0;32m    404\u001b[0m   \u001b[39mif\u001b[39;00m message \u001b[39mis\u001b[39;00m \u001b[39mnot\u001b[39;00m \u001b[39mNone\u001b[39;00m:\n\u001b[0;32m    405\u001b[0m     data \u001b[39m=\u001b[39m [message] \u001b[39m+\u001b[39m \u001b[39mlist\u001b[39m(data)\n\u001b[1;32m--> 407\u001b[0m   \u001b[39mraise\u001b[39;00m errors\u001b[39m.\u001b[39mInvalidArgumentError(\n\u001b[0;32m    408\u001b[0m       node_def\u001b[39m=\u001b[39m\u001b[39mNone\u001b[39;00m,\n\u001b[0;32m    409\u001b[0m       op\u001b[39m=\u001b[39m\u001b[39mNone\u001b[39;00m,\n\u001b[0;32m    410\u001b[0m       message\u001b[39m=\u001b[39m(\u001b[39m'\u001b[39m\u001b[39m\\n\u001b[39;00m\u001b[39m'\u001b[39m\u001b[39m.\u001b[39mjoin(_pretty_print(d, summarize) \u001b[39mfor\u001b[39;00m d \u001b[39min\u001b[39;00m data)))\n\u001b[0;32m    412\u001b[0m \u001b[39melse\u001b[39;00m:  \u001b[39m# not context.executing_eagerly()\u001b[39;00m\n\u001b[0;32m    413\u001b[0m   \u001b[39mif\u001b[39;00m data \u001b[39mis\u001b[39;00m \u001b[39mNone\u001b[39;00m:\n",
      "\u001b[1;31mInvalidArgumentError\u001b[0m: `predictions` contains negative values.  \nCondition x >= 0 did not hold element-wise:\nx (shape=(6, 6) dtype=int64) = \n['1360', '7387', '1848', '...']"
     ]
    }
   ],
   "source": [
    "predata=tf.keras.utils.image_dataset_from_directory(\"Small_dataset\\S_prediction_datas_labels_bw\")\n",
    "\n",
    "predata2 = predata.unbatch()\n",
    "labels = list(predata2.map(lambda x, y: y))\n",
    "labels_brut=[]\n",
    "\n",
    "for i in range(len(labels)):\n",
    "    labels_brut.append(tf.get_static_value(labels[i]))\n",
    "\n",
    "#Labels of the predicting outputs\n",
    "print(labels_brut) \n",
    "\n",
    "dict={0:\"F\",1:\"M\",2:\"N\",3:\"Q\",4:\"S\",5:\"V\"}\n",
    "prediction = model.predict(predata) \n",
    "\n",
    "classes = np.argmax(prediction, axis = 1)\n",
    "\n",
    "for i,clas in enumerate(classes) :\n",
    "    print(f\"Image {i} is disease \"+dict[clas] +\" but should be \"+dict[labels_brut[i]]) \n",
    "    \n",
    "\n",
    "\n",
    "\n"
   ]
  }
 ],
 "metadata": {
  "kernelspec": {
   "display_name": "Python 3.9.12 ('base')",
   "language": "python",
   "name": "python3"
  },
  "language_info": {
   "codemirror_mode": {
    "name": "ipython",
    "version": 3
   },
   "file_extension": ".py",
   "mimetype": "text/x-python",
   "name": "python",
   "nbconvert_exporter": "python",
   "pygments_lexer": "ipython3",
   "version": "3.9.12"
  },
  "orig_nbformat": 4,
  "vscode": {
   "interpreter": {
    "hash": "ad2bdc8ecc057115af97d19610ffacc2b4e99fae6737bb82f5d7fb13d2f2c186"
   }
  }
 },
 "nbformat": 4,
 "nbformat_minor": 2
}
