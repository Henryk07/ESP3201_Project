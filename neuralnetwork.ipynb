{
 "cells": [
  {
   "cell_type": "markdown",
   "metadata": {},
   "source": [
    "## Neural Network Notebook ##\n",
    "\n",
    "A first draft of the neural network that will be used for the ECG classification project is described in this notebook.\n",
    "\n",
    "### Initialization ###\n",
    "\n",
    "We will train our model  with the help of the TensorFlow framework. If you had not installed TensorFlow yet, you can do it easily with the command pip install --upgrade tensorflow."
   ]
  },
  {
   "cell_type": "code",
   "execution_count": 1,
   "metadata": {},
   "outputs": [],
   "source": [
    "import matplotlib.pyplot as plt\n",
    "import numpy as np\n",
    "import os\n",
    "import PIL\n",
    "import tensorflow as tf\n",
    "import pathlib\n",
    "\n",
    "from tensorflow import keras\n"
   ]
  },
  {
   "cell_type": "markdown",
   "metadata": {},
   "source": [
    "### Part 1 : importing the data ###\n",
    "\n",
    "We start by importing our tests data. \n",
    "\n",
    "NOTE : training and testing datas can be in the same directory, we can seperate them directly with tensorflow.\n",
    "\n",
    "NOTE2 : \n",
    "What is batch size ? \n",
    "Batch size is the number of samples you put into for each training round.\n",
    "So for each epoch, you can split your training sets into multiple batches.\n",
    "For example, I have 1000 images.\n",
    "If I set my batch size to 1, then for each epoch (training round), my input into the network will be 1 x 1000 images.\n",
    "If set my batch size to 2, then it will be 2 x 500 images.\n",
    "Meaning, for each epoch, I will run two rounds, each round using 500 images.\n",
    "Step is just the learning rate that you use for your optimizer.\n",
    "Usually, we start with 0.001 or 0.01.\n",
    "\n",
    "NOTE3 : Augmentation method"
   ]
  },
  {
   "cell_type": "code",
   "execution_count": 16,
   "metadata": {},
   "outputs": [
    {
     "name": "stdout",
     "output_type": "stream",
     "text": [
      "Found 108 files belonging to 6 classes.\n",
      "Found 36 files belonging to 6 classes.\n"
     ]
    },
    {
     "data": {
      "image/png": "[encoded data removed]",
      "text/plain": [
       "<Figure size 720x720 with 6 Axes>"
      ]
     },
     "metadata": {
      "needs_background": "light"
     },
     "output_type": "display_data"
    }
   ],
   "source": [
    "batch_size=1\n",
    "\n",
    "traindata=tf.keras.utils.image_dataset_from_directory(\"S_training_datas_labels\",labels='inferred',class_names=[\"F\",\"M\",\"N\",\"Q\",\"S\",\"V\"])\n",
    "valdata=tf.keras.utils.image_dataset_from_directory(\"S_testing_datas_labels\",labels='inferred',class_names=[\"F\",\"M\",\"N\",\"Q\",\"S\",\"V\"])\n",
    "\n",
    "plt.figure(figsize=(10, 10))\n",
    "for images, labels in traindata.take(1):\n",
    "  for i in range(6):\n",
    "    ax = plt.subplot(2, 3, i + 1)\n",
    "    plt.imshow(images[i].numpy().astype(\"uint8\"))\n",
    "    plt.title(traindata.class_names[labels[i]])\n",
    "    plt.axis(\"off\")\n",
    "\n"
   ]
  },
  {
   "cell_type": "code",
   "execution_count": 18,
   "metadata": {},
   "outputs": [
    {
     "name": "stdout",
     "output_type": "stream",
     "text": [
      "(32, 256, 256, 3)\n",
      "(32,)\n"
     ]
    }
   ],
   "source": [
    "for image_batch, labels_batch in traindata: \n",
    "    print(image_batch.shape)\n",
    "    print(labels_batch.shape)\n",
    "    break"
   ]
  },
  {
   "cell_type": "markdown",
   "metadata": {},
   "source": [
    "image_bacth shape (32,256,256,3) means a group of 32 images of size 256x256 and the last channel 3 corresponds to the RVB colors reference. \n",
    "labels_batch shape (32,) corresponds to the label of the 32 images. \n",
    "\n",
    "NOTE : Why 32 ???"
   ]
  },
  {
   "cell_type": "markdown",
   "metadata": {},
   "source": [
    "### Part 2 : pre-processing the data ###\n",
    "\n",
    "#### Data standardization ###\n",
    "\n",
    "For now, RVB channels are in [0,255] which is too large for a neural network. We will then normalize these values. \n",
    "\n",
    "NOTE : use only one channel for black and white pictures : search code to convert to black and white.\n",
    "\n",
    "NOTE 2 :  Rescaling the image can be directly implemented in the model by layer.Rescaling"
   ]
  },
  {
   "cell_type": "code",
   "execution_count": 5,
   "metadata": {},
   "outputs": [],
   "source": [
    "normalization_layer= tf.keras.layers.Rescaling(1./255)\n",
    "\n",
    "normtraindata=traindata.map(lambda x, y: (normalization_layer(x),y))"
   ]
  },
  {
   "cell_type": "markdown",
   "metadata": {},
   "source": [
    "### Part 3 :  creating the model ###\n",
    "\n",
    "In this part, we define important elements that will be used to build our model. \n",
    "\n",
    "NOTE : This model is the one used in the Image Classification tutorial from TensorFlow website, same for the compiler. NEED TO BE RETHINKED AND DISCUSSED. \n",
    "\n",
    "PADDING : start with 'Valid' --> 'Same', keep as much information as possible\n",
    "\n",
    "ACTIVATION function : can be changed also \n",
    "\n",
    "FLATTEN : flattening/mapping the pixels\n",
    "\n",
    "POOLING : change between Max/Average ?"
   ]
  },
  {
   "cell_type": "code",
   "execution_count": 32,
   "metadata": {},
   "outputs": [
    {
     "name": "stdout",
     "output_type": "stream",
     "text": [
      "Model: \"sequential_1\"\n",
      "_________________________________________________________________\n",
      " Layer (type)                Output Shape              Param #   \n",
      "=================================================================\n",
      " conv2d_3 (Conv2D)           (None, 256, 256, 16)      448       \n",
      "                                                                 \n",
      " max_pooling2d_3 (MaxPooling  (None, 128, 128, 16)     0         \n",
      " 2D)                                                             \n",
      "                                                                 \n",
      " conv2d_4 (Conv2D)           (None, 128, 128, 32)      4640      \n",
      "                                                                 \n",
      " max_pooling2d_4 (MaxPooling  (None, 64, 64, 32)       0         \n",
      " 2D)                                                             \n",
      "                                                                 \n",
      " conv2d_5 (Conv2D)           (None, 64, 64, 64)        18496     \n",
      "                                                                 \n",
      " max_pooling2d_5 (MaxPooling  (None, 32, 32, 64)       0         \n",
      " 2D)                                                             \n",
      "                                                                 \n",
      " flatten_1 (Flatten)         (None, 65536)             0         \n",
      "                                                                 \n",
      " dense_2 (Dense)             (None, 128)               8388736   \n",
      "                                                                 \n",
      " dense_3 (Dense)             (None, 6)                 774       \n",
      "                                                                 \n",
      "=================================================================\n",
      "Total params: 8,413,094\n",
      "Trainable params: 8,413,094\n",
      "Non-trainable params: 0\n",
      "_________________________________________________________________\n"
     ]
    }
   ],
   "source": [
    "# Model Creation\n",
    "\n",
    "model= keras.Sequential([\n",
    "    keras.layers.Conv2D(16, 3, padding='same', activation='relu'), \n",
    "    keras.layers.MaxPooling2D(),\n",
    "    keras.layers.Conv2D(32, 3, padding='same', activation='relu'),\n",
    "    keras.layers.MaxPooling2D(),\n",
    "    keras.layers.Conv2D(64, 3, padding='same', activation='relu'),\n",
    "    keras.layers.MaxPooling2D(),\n",
    "    keras.layers.Flatten(),\n",
    "    keras.layers.Dense(128, activation='relu'),\n",
    "    keras.layers.Dense(6)\n",
    "])\n",
    "\n",
    "model.build((None,256,256,3))\n",
    "\n",
    "#Model Compiler\n",
    "model.compile(optimizer='adam',\n",
    "              loss=tf.keras.losses.SparseCategoricalCrossentropy(from_logits=True),\n",
    "              metrics=['accuracy'])\n",
    "\n",
    "#Model summary \n",
    "model.summary()\n"
   ]
  },
  {
   "cell_type": "markdown",
   "metadata": {},
   "source": [
    "### Part 3 : training and testing ###\n",
    "\n",
    "Note : This code is taken from the TensorFlow tutorial page. "
   ]
  },
  {
   "cell_type": "code",
   "execution_count": 33,
   "metadata": {},
   "outputs": [
    {
     "name": "stdout",
     "output_type": "stream",
     "text": [
      "Epoch 1/50\n",
      "4/4 [==============================] - 4s 799ms/step - loss: 5.0556 - accuracy: 0.1481 - val_loss: 259.0432 - val_accuracy: 0.1667\n",
      "Epoch 2/50\n",
      "4/4 [==============================] - 3s 696ms/step - loss: 1.8559 - accuracy: 0.2037 - val_loss: 55.0673 - val_accuracy: 0.3333\n",
      "Epoch 3/50\n",
      "4/4 [==============================] - 3s 726ms/step - loss: 1.6976 - accuracy: 0.3241 - val_loss: 23.0727 - val_accuracy: 0.4722\n",
      "Epoch 4/50\n",
      "4/4 [==============================] - 3s 722ms/step - loss: 1.5373 - accuracy: 0.5093 - val_loss: 20.2584 - val_accuracy: 0.6944\n",
      "Epoch 5/50\n",
      "4/4 [==============================] - 3s 700ms/step - loss: 1.2256 - accuracy: 0.8519 - val_loss: 32.4508 - val_accuracy: 0.6944\n",
      "Epoch 6/50\n",
      "4/4 [==============================] - 3s 703ms/step - loss: 0.8834 - accuracy: 0.9074 - val_loss: 35.2179 - val_accuracy: 0.7778\n",
      "Epoch 7/50\n",
      "4/4 [==============================] - 3s 704ms/step - loss: 0.5040 - accuracy: 0.9352 - val_loss: 97.2905 - val_accuracy: 0.7222\n",
      "Epoch 8/50\n",
      "4/4 [==============================] - 3s 723ms/step - loss: 0.3158 - accuracy: 0.9444 - val_loss: 95.2245 - val_accuracy: 0.8333\n",
      "Epoch 9/50\n",
      "4/4 [==============================] - 3s 706ms/step - loss: 0.1389 - accuracy: 0.9722 - val_loss: 156.2804 - val_accuracy: 0.8056\n",
      "Epoch 10/50\n",
      "4/4 [==============================] - 3s 715ms/step - loss: 0.0543 - accuracy: 0.9907 - val_loss: 220.0488 - val_accuracy: 0.7778\n",
      "Epoch 11/50\n",
      "4/4 [==============================] - 3s 781ms/step - loss: 0.0235 - accuracy: 1.0000 - val_loss: 254.3944 - val_accuracy: 0.7778\n",
      "Epoch 12/50\n",
      "4/4 [==============================] - 3s 779ms/step - loss: 0.0081 - accuracy: 1.0000 - val_loss: 259.4529 - val_accuracy: 0.8056\n",
      "Epoch 13/50\n",
      "4/4 [==============================] - 3s 779ms/step - loss: 0.0027 - accuracy: 1.0000 - val_loss: 292.9799 - val_accuracy: 0.8056\n",
      "Epoch 14/50\n",
      "4/4 [==============================] - 3s 768ms/step - loss: 0.0020 - accuracy: 1.0000 - val_loss: 322.6834 - val_accuracy: 0.7778\n",
      "Epoch 15/50\n",
      "4/4 [==============================] - 3s 813ms/step - loss: 0.0017 - accuracy: 1.0000 - val_loss: 326.7441 - val_accuracy: 0.7778\n",
      "Epoch 16/50\n",
      "4/4 [==============================] - 3s 762ms/step - loss: 8.9721e-04 - accuracy: 1.0000 - val_loss: 340.8902 - val_accuracy: 0.7778\n",
      "Epoch 17/50\n",
      "4/4 [==============================] - 3s 771ms/step - loss: 5.5951e-04 - accuracy: 1.0000 - val_loss: 349.0385 - val_accuracy: 0.8056\n",
      "Epoch 18/50\n",
      "4/4 [==============================] - 3s 782ms/step - loss: 4.0130e-04 - accuracy: 1.0000 - val_loss: 348.6196 - val_accuracy: 0.8056\n",
      "Epoch 19/50\n",
      "4/4 [==============================] - 3s 807ms/step - loss: 3.1418e-04 - accuracy: 1.0000 - val_loss: 351.7834 - val_accuracy: 0.8056\n",
      "Epoch 20/50\n",
      "4/4 [==============================] - 3s 803ms/step - loss: 2.5357e-04 - accuracy: 1.0000 - val_loss: 358.1419 - val_accuracy: 0.8056\n",
      "Epoch 21/50\n",
      "4/4 [==============================] - 4s 835ms/step - loss: 1.6681e-04 - accuracy: 1.0000 - val_loss: 365.4518 - val_accuracy: 0.8056\n",
      "Epoch 22/50\n",
      "4/4 [==============================] - 3s 764ms/step - loss: 1.2648e-04 - accuracy: 1.0000 - val_loss: 373.2386 - val_accuracy: 0.8056\n",
      "Epoch 23/50\n",
      "4/4 [==============================] - 3s 787ms/step - loss: 1.0843e-04 - accuracy: 1.0000 - val_loss: 381.9263 - val_accuracy: 0.8056\n",
      "Epoch 24/50\n",
      "4/4 [==============================] - 4s 1s/step - loss: 8.5962e-05 - accuracy: 1.0000 - val_loss: 389.6588 - val_accuracy: 0.8056\n",
      "Epoch 25/50\n",
      "4/4 [==============================] - 4s 955ms/step - loss: 6.8772e-05 - accuracy: 1.0000 - val_loss: 396.6815 - val_accuracy: 0.8056\n",
      "Epoch 26/50\n",
      "4/4 [==============================] - 4s 910ms/step - loss: 5.6018e-05 - accuracy: 1.0000 - val_loss: 403.9150 - val_accuracy: 0.8056\n",
      "Epoch 27/50\n",
      "4/4 [==============================] - 4s 894ms/step - loss: 4.9293e-05 - accuracy: 1.0000 - val_loss: 411.4720 - val_accuracy: 0.8056\n",
      "Epoch 28/50\n",
      "4/4 [==============================] - 4s 826ms/step - loss: 4.4952e-05 - accuracy: 1.0000 - val_loss: 419.4675 - val_accuracy: 0.8056\n",
      "Epoch 29/50\n",
      "4/4 [==============================] - 3s 809ms/step - loss: 3.9397e-05 - accuracy: 1.0000 - val_loss: 428.0918 - val_accuracy: 0.8056\n",
      "Epoch 30/50\n",
      "4/4 [==============================] - 3s 753ms/step - loss: 3.5657e-05 - accuracy: 1.0000 - val_loss: 437.1297 - val_accuracy: 0.8056\n",
      "Epoch 31/50\n",
      "4/4 [==============================] - 3s 751ms/step - loss: 3.1232e-05 - accuracy: 1.0000 - val_loss: 445.1606 - val_accuracy: 0.8056\n",
      "Epoch 32/50\n",
      "4/4 [==============================] - 3s 746ms/step - loss: 2.8302e-05 - accuracy: 1.0000 - val_loss: 451.6854 - val_accuracy: 0.8056\n",
      "Epoch 33/50\n",
      "4/4 [==============================] - 3s 745ms/step - loss: 2.5651e-05 - accuracy: 1.0000 - val_loss: 457.4698 - val_accuracy: 0.8056\n",
      "Epoch 34/50\n",
      "4/4 [==============================] - 3s 748ms/step - loss: 2.4098e-05 - accuracy: 1.0000 - val_loss: 464.5854 - val_accuracy: 0.8056\n",
      "Epoch 35/50\n",
      "4/4 [==============================] - 3s 758ms/step - loss: 2.1215e-05 - accuracy: 1.0000 - val_loss: 473.0041 - val_accuracy: 0.8056\n",
      "Epoch 36/50\n",
      "4/4 [==============================] - 3s 739ms/step - loss: 1.9206e-05 - accuracy: 1.0000 - val_loss: 482.0233 - val_accuracy: 0.8056\n",
      "Epoch 37/50\n",
      "4/4 [==============================] - 3s 747ms/step - loss: 1.7226e-05 - accuracy: 1.0000 - val_loss: 487.4527 - val_accuracy: 0.8056\n",
      "Epoch 38/50\n",
      "4/4 [==============================] - 3s 743ms/step - loss: 1.5680e-05 - accuracy: 1.0000 - val_loss: 492.3278 - val_accuracy: 0.8056\n",
      "Epoch 39/50\n",
      "4/4 [==============================] - 4s 880ms/step - loss: 1.4327e-05 - accuracy: 1.0000 - val_loss: 498.2882 - val_accuracy: 0.8056\n",
      "Epoch 40/50\n",
      "4/4 [==============================] - 4s 868ms/step - loss: 1.3143e-05 - accuracy: 1.0000 - val_loss: 506.2690 - val_accuracy: 0.8056\n",
      "Epoch 41/50\n",
      "4/4 [==============================] - 3s 759ms/step - loss: 1.2042e-05 - accuracy: 1.0000 - val_loss: 513.9736 - val_accuracy: 0.8056\n",
      "Epoch 42/50\n",
      "4/4 [==============================] - 3s 755ms/step - loss: 1.0743e-05 - accuracy: 1.0000 - val_loss: 521.7906 - val_accuracy: 0.8056\n",
      "Epoch 43/50\n",
      "4/4 [==============================] - 3s 757ms/step - loss: 9.8324e-06 - accuracy: 1.0000 - val_loss: 529.1581 - val_accuracy: 0.8056\n",
      "Epoch 44/50\n",
      "4/4 [==============================] - 3s 778ms/step - loss: 9.1116e-06 - accuracy: 1.0000 - val_loss: 535.5636 - val_accuracy: 0.8056\n",
      "Epoch 45/50\n",
      "4/4 [==============================] - 3s 758ms/step - loss: 8.0840e-06 - accuracy: 1.0000 - val_loss: 543.4476 - val_accuracy: 0.8056\n",
      "Epoch 46/50\n",
      "4/4 [==============================] - 3s 758ms/step - loss: 7.5509e-06 - accuracy: 1.0000 - val_loss: 550.4832 - val_accuracy: 0.8056\n",
      "Epoch 47/50\n",
      "4/4 [==============================] - 3s 760ms/step - loss: 7.0123e-06 - accuracy: 1.0000 - val_loss: 555.3254 - val_accuracy: 0.8056\n",
      "Epoch 48/50\n",
      "4/4 [==============================] - 3s 758ms/step - loss: 6.3699e-06 - accuracy: 1.0000 - val_loss: 559.9781 - val_accuracy: 0.8056\n",
      "Epoch 49/50\n",
      "4/4 [==============================] - 3s 754ms/step - loss: 5.8986e-06 - accuracy: 1.0000 - val_loss: 564.9394 - val_accuracy: 0.8056\n",
      "Epoch 50/50\n",
      "4/4 [==============================] - 3s 759ms/step - loss: 5.4814e-06 - accuracy: 1.0000 - val_loss: 571.1323 - val_accuracy: 0.8056\n"
     ]
    },
    {
     "data": {
      "image/png": "[encoded data removed]",
      "text/plain": [
       "<Figure size 576x576 with 2 Axes>"
      ]
     },
     "metadata": {
      "needs_background": "light"
     },
     "output_type": "display_data"
    }
   ],
   "source": [
    "epochs= 50\n",
    "history = model.fit(\n",
    "  normtraindata,\n",
    "  validation_data=valdata,\n",
    "  epochs=epochs\n",
    ")\n",
    "\n",
    "acc = history.history['accuracy']\n",
    "val_acc = history.history['val_accuracy']\n",
    "\n",
    "loss = history.history['loss']\n",
    "val_loss = history.history['val_loss']\n",
    "\n",
    "epochs_range = range(epochs)\n",
    "\n",
    "model.save(\"model/model_HDF5_format_test.h5\")\n",
    "\n",
    "plt.figure(figsize=(8, 8))\n",
    "plt.subplot(1, 2, 1)\n",
    "plt.plot(epochs_range, acc, label='Training Accuracy')\n",
    "plt.plot(epochs_range, val_acc, label='Validation Accuracy')\n",
    "plt.legend(loc='lower right')\n",
    "plt.title('Training and Validation Accuracy')\n",
    "\n",
    "plt.subplot(1, 2, 2)\n",
    "plt.plot(epochs_range, loss, label='Training Loss')\n",
    "plt.plot(epochs_range, val_loss, label='Validation Loss')\n",
    "plt.legend(loc='upper right')\n",
    "plt.title('Training and Validation Loss')\n",
    "plt.show()\n",
    "\n"
   ]
  },
  {
   "cell_type": "markdown",
   "metadata": {},
   "source": [
    "### Part 4 : Testing a random image on the model ###\n",
    "\n",
    "Very simple code to quickly test some predictions on our model. Has to be improved. "
   ]
  },
  {
   "cell_type": "code",
   "execution_count": 51,
   "metadata": {},
   "outputs": [
    {
     "name": "stdout",
     "output_type": "stream",
     "text": [
      "Found 6 files belonging to 6 classes.\n",
      "[4, 0, 5, 2, 3, 1]\n",
      "1/1 [==============================] - 0s 66ms/step\n",
      "Image 0 is disease M but should be S\n",
      "Image 1 is disease Q but should be F\n",
      "Image 2 is disease S but should be V\n",
      "Image 3 is disease Q but should be N\n",
      "Image 4 is disease F but should be Q\n",
      "Image 5 is disease N but should be M\n",
      "[[ 1360.6224   7387.3823   1848.4061   2614.4507   3326.119    3343.976  ]\n",
      " [  580.7877   1238.7675   3266.6072   5885.42     1601.4751   4693.0864 ]\n",
      " [-1823.8557   3855.965     343.39365  4202.507    8856.944    4098.0806 ]\n",
      " [  368.47232  2196.679    2048.9124   5287.574    1463.9518   2708.1418 ]\n",
      " [ 6283.776    -473.82742  2260.1033    529.5229   -252.67456  1421.6614 ]\n",
      " [ 1806.655    2655.4146   4409.145    1309.2714    743.7094   1856.7938 ]]\n"
     ]
    },
    {
     "ename": "InvalidArgumentError",
     "evalue": "`predictions` contains negative values.  \nCondition x >= 0 did not hold element-wise:\nx (shape=(6, 6) dtype=int64) = \n['1360', '7387', '1848', '...']",
     "output_type": "error",
     "traceback": [
      "\u001b[1;31m---------------------------------------------------------------------------\u001b[0m",
      "\u001b[1;31mInvalidArgumentError\u001b[0m                      Traceback (most recent call last)",
      "\u001b[1;32mc:\\Users\\valer\\OneDrive\\Documents\\NUS\\Machine Learning\\ESP3201_Project-1\\neuralnetwork.ipynb Cellule 14\u001b[0m in \u001b[0;36m<cell line: 22>\u001b[1;34m()\u001b[0m\n\u001b[0;32m     <a href='vscode-notebook-cell:/c%3A/Users/valer/OneDrive/Documents/NUS/Machine%20Learning/ESP3201_Project-1/neuralnetwork.ipynb#X16sZmlsZQ%3D%3D?line=18'>19</a>\u001b[0m     \u001b[39mprint\u001b[39m(\u001b[39mf\u001b[39m\u001b[39m\"\u001b[39m\u001b[39mImage \u001b[39m\u001b[39m{\u001b[39;00mi\u001b[39m}\u001b[39;00m\u001b[39m is disease \u001b[39m\u001b[39m\"\u001b[39m\u001b[39m+\u001b[39m\u001b[39mdict\u001b[39m[clas] \u001b[39m+\u001b[39m\u001b[39m\"\u001b[39m\u001b[39m but should be \u001b[39m\u001b[39m\"\u001b[39m\u001b[39m+\u001b[39m\u001b[39mdict\u001b[39m[labels_brut[i]]) \n\u001b[0;32m     <a href='vscode-notebook-cell:/c%3A/Users/valer/OneDrive/Documents/NUS/Machine%20Learning/ESP3201_Project-1/neuralnetwork.ipynb#X16sZmlsZQ%3D%3D?line=20'>21</a>\u001b[0m \u001b[39mprint\u001b[39m(prediction)\n\u001b[1;32m---> <a href='vscode-notebook-cell:/c%3A/Users/valer/OneDrive/Documents/NUS/Machine%20Learning/ESP3201_Project-1/neuralnetwork.ipynb#X16sZmlsZQ%3D%3D?line=21'>22</a>\u001b[0m tf\u001b[39m.\u001b[39;49mmath\u001b[39m.\u001b[39;49mconfusion_matrix(labels,prediction)\n",
      "File \u001b[1;32m~\\AppData\\Roaming\\Python\\Python39\\site-packages\\tensorflow\\python\\util\\traceback_utils.py:153\u001b[0m, in \u001b[0;36mfilter_traceback.<locals>.error_handler\u001b[1;34m(*args, **kwargs)\u001b[0m\n\u001b[0;32m    151\u001b[0m \u001b[39mexcept\u001b[39;00m \u001b[39mException\u001b[39;00m \u001b[39mas\u001b[39;00m e:\n\u001b[0;32m    152\u001b[0m   filtered_tb \u001b[39m=\u001b[39m _process_traceback_frames(e\u001b[39m.\u001b[39m__traceback__)\n\u001b[1;32m--> 153\u001b[0m   \u001b[39mraise\u001b[39;00m e\u001b[39m.\u001b[39mwith_traceback(filtered_tb) \u001b[39mfrom\u001b[39;00m \u001b[39mNone\u001b[39m\n\u001b[0;32m    154\u001b[0m \u001b[39mfinally\u001b[39;00m:\n\u001b[0;32m    155\u001b[0m   \u001b[39mdel\u001b[39;00m filtered_tb\n",
      "File \u001b[1;32m~\\AppData\\Roaming\\Python\\Python39\\site-packages\\tensorflow\\python\\ops\\check_ops.py:407\u001b[0m, in \u001b[0;36m_binary_assert\u001b[1;34m(sym, opname, op_func, static_func, x, y, data, summarize, message, name)\u001b[0m\n\u001b[0;32m    404\u001b[0m   \u001b[39mif\u001b[39;00m message \u001b[39mis\u001b[39;00m \u001b[39mnot\u001b[39;00m \u001b[39mNone\u001b[39;00m:\n\u001b[0;32m    405\u001b[0m     data \u001b[39m=\u001b[39m [message] \u001b[39m+\u001b[39m \u001b[39mlist\u001b[39m(data)\n\u001b[1;32m--> 407\u001b[0m   \u001b[39mraise\u001b[39;00m errors\u001b[39m.\u001b[39mInvalidArgumentError(\n\u001b[0;32m    408\u001b[0m       node_def\u001b[39m=\u001b[39m\u001b[39mNone\u001b[39;00m,\n\u001b[0;32m    409\u001b[0m       op\u001b[39m=\u001b[39m\u001b[39mNone\u001b[39;00m,\n\u001b[0;32m    410\u001b[0m       message\u001b[39m=\u001b[39m(\u001b[39m'\u001b[39m\u001b[39m\\n\u001b[39;00m\u001b[39m'\u001b[39m\u001b[39m.\u001b[39mjoin(_pretty_print(d, summarize) \u001b[39mfor\u001b[39;00m d \u001b[39min\u001b[39;00m data)))\n\u001b[0;32m    412\u001b[0m \u001b[39melse\u001b[39;00m:  \u001b[39m# not context.executing_eagerly()\u001b[39;00m\n\u001b[0;32m    413\u001b[0m   \u001b[39mif\u001b[39;00m data \u001b[39mis\u001b[39;00m \u001b[39mNone\u001b[39;00m:\n",
      "\u001b[1;31mInvalidArgumentError\u001b[0m: `predictions` contains negative values.  \nCondition x >= 0 did not hold element-wise:\nx (shape=(6, 6) dtype=int64) = \n['1360', '7387', '1848', '...']"
     ]
    }
   ],
   "source": [
    "predata=tf.keras.utils.image_dataset_from_directory(\"S_prediction_datas_labels\")\n",
    "\n",
    "predata2 = predata.unbatch()\n",
    "labels = list(predata2.map(lambda x, y: y))\n",
    "labels_brut=[]\n",
    "\n",
    "for i in range(len(labels)):\n",
    "    labels_brut.append(tf.get_static_value(labels[i]))\n",
    "\n",
    "#Labels of the predicting outputs\n",
    "print(labels_brut) \n",
    "\n",
    "dict={0:\"F\",1:\"M\",2:\"N\",3:\"Q\",4:\"S\",5:\"V\"}\n",
    "prediction = model.predict(predata) \n",
    "\n",
    "classes = np.argmax(prediction, axis = 1)\n",
    "\n",
    "for i,clas in enumerate(classes) :\n",
    "    print(f\"Image {i} is disease \"+dict[clas] +\" but should be \"+dict[labels_brut[i]]) \n",
    "    \n",
    "\n",
    "\n",
    "\n"
   ]
  }
 ],
 "metadata": {
  "kernelspec": {
   "display_name": "Python 3.9.12 ('base')",
   "language": "python",
   "name": "python3"
  },
  "language_info": {
   "codemirror_mode": {
    "name": "ipython",
    "version": 3
   },
   "file_extension": ".py",
   "mimetype": "text/x-python",
   "name": "python",
   "nbconvert_exporter": "python",
   "pygments_lexer": "ipython3",
   "version": "3.9.12"
  },
  "orig_nbformat": 4,
  "vscode": {
   "interpreter": {
    "hash": "ad2bdc8ecc057115af97d19610ffacc2b4e99fae6737bb82f5d7fb13d2f2c186"
   }
  }
 },
 "nbformat": 4,
 "nbformat_minor": 2
}
