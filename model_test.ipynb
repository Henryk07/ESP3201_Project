{
 "cells": [
  {
   "cell_type": "markdown",
   "metadata": {},
   "source": [
    "## Trained Models Tests ##\n",
    "\n",
    "This notebook helps to test different trained models, compare their accuracy and their efficiency."
   ]
  },
  {
   "cell_type": "code",
   "execution_count": 14,
   "metadata": {},
   "outputs": [],
   "source": [
    "# Initialization : importing useful libraries\n",
    "import matplotlib.pyplot as plt\n",
    "import numpy as np\n",
    "import os\n",
    "import PIL\n",
    "import tensorflow as tf\n",
    "import pathlib\n",
    "\n",
    "from tensorflow import keras\n",
    "\n",
    "from sklearn.metrics import plot_confusion_matrix"
   ]
  },
  {
   "cell_type": "markdown",
   "metadata": {},
   "source": [
    "Creation of the prediction function. The estimator and confusion matrix plotting function was taken from https://www.kaggle.com/code/mdmashurshalehin/plotting-confusion-matrix-for-tensorflow-model."
   ]
  },
  {
   "cell_type": "code",
   "execution_count": 19,
   "metadata": {},
   "outputs": [],
   "source": [
    "# Model test function\n",
    "# This function takes in argument a saved model and a batch of images to be predicted from a directory\n",
    "class estimator:\n",
    "    _estimator_type = ''\n",
    "    classes_=[]\n",
    "    def __init__(self, model, classes):\n",
    "        self.model = model\n",
    "        self._estimator_type = 'classifier'\n",
    "        self.classes_ = classes\n",
    "    def predict(self, X):\n",
    "        y_prob= self.model.predict(X)\n",
    "        y_pred = y_prob.argmax(axis=1)\n",
    "        return y_pred\n",
    "\n",
    "def modeltest(model,datatest):\n",
    "\n",
    "    predata = datatest.unbatch()\n",
    "    labels = list(predata.map(lambda x, y: y))\n",
    "    labels_brut=[]\n",
    "\n",
    "    for i in range(len(labels)): # gets the list of the predicted label for each image \n",
    "        labels_brut.append(tf.get_static_value(labels[i]))\n",
    "\n",
    "    dict={0:\"F\",1:\"M\",2:\"N\",3:\"Q\",4:\"S\",5:\"V\"}\n",
    "    prediction = model.predict(datatest) \n",
    "\n",
    "    classes = np.argmax(prediction, axis = 1)\n",
    "\n",
    "    for i,clas in enumerate(classes) :\n",
    "        print(f\"Image {i} || Predicted Disease : \"+dict[clas] +\" || True Disease : \"+dict[labels_brut[i]])  \n",
    "\n",
    "\n",
    "def confusionmatrix(model,datatest):\n",
    "    predata = datatest.unbatch()\n",
    "    labels = list(predata.map(lambda x, y: y))\n",
    "    labels_brut=[]\n",
    "\n",
    "    for i in range(len(labels)): # gets the list of the predicted label for each image \n",
    "        labels_brut.append(tf.get_static_value(labels[i]))\n",
    "\n",
    "    prediction = model.predict(datatest) \n",
    "\n",
    "    classifier = estimator(model, [\"F\",\"M\",\"N\",\"Q\",\"S\",\"V\"])\n",
    "    plot_confusion_matrix(estimator=classifier, X=datatest, y_true=labels_brut)\n"
   ]
  },
  {
   "cell_type": "markdown",
   "metadata": {},
   "source": [
    "### Model 1 ###\n",
    "\n",
    "model_20E_fulldata.h5\n",
    "\n",
    "Number of Epochs : 20 \n",
    "\n",
    "Dataset : Full Dataset\n",
    "\n",
    "Color : COLORFUL \n",
    "\n",
    "\n",
    "// Insert here a scheme of the NN (layers), parameters //\n",
    "\n",
    "#### Testing Model with Colorful Images ####\n"
   ]
  },
  {
   "cell_type": "code",
   "execution_count": 23,
   "metadata": {},
   "outputs": [
    {
     "name": "stdout",
     "output_type": "stream",
     "text": [
      "Found 108 files belonging to 6 classes.\n",
      "Found 6 files belonging to 6 classes.\n",
      "1/1 [==============================] - 0s 346ms/step\n",
      "Image 0 || Predicted Disease : F || True Disease : F\n",
      "Image 1 || Predicted Disease : M || True Disease : M\n",
      "Image 2 || Predicted Disease : N || True Disease : N\n",
      "Image 3 || Predicted Disease : Q || True Disease : Q\n",
      "Image 4 || Predicted Disease : S || True Disease : S\n",
      "Image 5 || Predicted Disease : V || True Disease : V\n",
      "4/4 [==============================] - 1s 204ms/step\n"
     ]
    },
    {
     "name": "stderr",
     "output_type": "stream",
     "text": [
      "c:\\ProgramData\\Anaconda3\\lib\\site-packages\\sklearn\\utils\\deprecation.py:87: FutureWarning: Function plot_confusion_matrix is deprecated; Function `plot_confusion_matrix` is deprecated in 1.0 and will be removed in 1.2. Use one of the class methods: ConfusionMatrixDisplay.from_predictions or ConfusionMatrixDisplay.from_estimator.\n",
      "  warnings.warn(msg, category=FutureWarning)\n"
     ]
    },
    {
     "name": "stdout",
     "output_type": "stream",
     "text": [
      "4/4 [==============================] - 1s 220ms/step\n"
     ]
    },
    {
     "data": {
      "image/png": "[encoded data removed]",
      "text/plain": [
       "<Figure size 432x288 with 2 Axes>"
      ]
     },
     "metadata": {
      "needs_background": "light"
     },
     "output_type": "display_data"
    }
   ],
   "source": [
    "# Model 1 \n",
    "\n",
    "model1 = tf.keras.models.load_model('model/model_20E_fulldata.h5')\n",
    "\n",
    "hugedata=tf.keras.utils.image_dataset_from_directory(\"Small_dataset/S_training_datas_labels\",shuffle=False)\n",
    "predictdata=tf.keras.utils.image_dataset_from_directory(\"Small_dataset/S_prediction_datas_labels\",shuffle=False)\n",
    "\n",
    "modeltest(model1,predictdata)\n",
    "confusionmatrix(model1,hugedata)\n"
   ]
  },
  {
   "cell_type": "markdown",
   "metadata": {},
   "source": [
    "#### Testing Model with black and white images ####"
   ]
  },
  {
   "cell_type": "code",
   "execution_count": 25,
   "metadata": {},
   "outputs": [
    {
     "name": "stdout",
     "output_type": "stream",
     "text": [
      "Found 144 files belonging to 6 classes.\n",
      "Found 6 files belonging to 6 classes.\n",
      "1/1 [==============================] - 0s 86ms/step\n",
      "Image 0 || Predicted Disease : M || True Disease : F\n",
      "Image 1 || Predicted Disease : M || True Disease : M\n",
      "Image 2 || Predicted Disease : M || True Disease : N\n",
      "Image 3 || Predicted Disease : M || True Disease : Q\n",
      "Image 4 || Predicted Disease : M || True Disease : S\n",
      "Image 5 || Predicted Disease : M || True Disease : V\n",
      "5/5 [==============================] - 1s 262ms/step\n"
     ]
    },
    {
     "name": "stderr",
     "output_type": "stream",
     "text": [
      "c:\\ProgramData\\Anaconda3\\lib\\site-packages\\sklearn\\utils\\deprecation.py:87: FutureWarning: Function plot_confusion_matrix is deprecated; Function `plot_confusion_matrix` is deprecated in 1.0 and will be removed in 1.2. Use one of the class methods: ConfusionMatrixDisplay.from_predictions or ConfusionMatrixDisplay.from_estimator.\n",
      "  warnings.warn(msg, category=FutureWarning)\n"
     ]
    },
    {
     "name": "stdout",
     "output_type": "stream",
     "text": [
      "5/5 [==============================] - 1s 235ms/step\n"
     ]
    },
    {
     "data": {
      "image/png": "[encoded data removed]",
      "text/plain": [
       "<Figure size 432x288 with 2 Axes>"
      ]
     },
     "metadata": {
      "needs_background": "light"
     },
     "output_type": "display_data"
    }
   ],
   "source": [
    "simpledata=tf.keras.utils.image_dataset_from_directory(\"Small_dataset/S_datas_labels_cb_bw\",shuffle=False)\n",
    "predictdata=tf.keras.utils.image_dataset_from_directory(\"Small_dataset/S_prediction_datas_labels_bw\",shuffle=False)\n",
    "\n",
    "modeltest(model1,predictdata)\n",
    "confusionmatrix(model1,simpledata)\n"
   ]
  },
  {
   "cell_type": "markdown",
   "metadata": {},
   "source": [
    "### Model 2 ###\n",
    "\n",
    "model_test_smalldata.h5\n"
   ]
  },
  {
   "cell_type": "code",
   "execution_count": 26,
   "metadata": {},
   "outputs": [
    {
     "name": "stdout",
     "output_type": "stream",
     "text": [
      "Found 144 files belonging to 6 classes.\n",
      "Found 6 files belonging to 6 classes.\n",
      "2/2 [==============================] - 0s 37ms/step\n",
      "Image 0 || Predicted Disease : M || True Disease : F\n",
      "Image 1 || Predicted Disease : M || True Disease : M\n",
      "Image 2 || Predicted Disease : M || True Disease : N\n",
      "Image 3 || Predicted Disease : M || True Disease : Q\n",
      "Image 4 || Predicted Disease : M || True Disease : S\n",
      "Image 5 || Predicted Disease : V || True Disease : V\n",
      "29/29 [==============================] - 1s 48ms/step\n",
      " 2/29 [=>............................] - ETA: 1s"
     ]
    },
    {
     "name": "stderr",
     "output_type": "stream",
     "text": [
      "c:\\ProgramData\\Anaconda3\\lib\\site-packages\\sklearn\\utils\\deprecation.py:87: FutureWarning: Function plot_confusion_matrix is deprecated; Function `plot_confusion_matrix` is deprecated in 1.0 and will be removed in 1.2. Use one of the class methods: ConfusionMatrixDisplay.from_predictions or ConfusionMatrixDisplay.from_estimator.\n",
      "  warnings.warn(msg, category=FutureWarning)\n"
     ]
    },
    {
     "name": "stdout",
     "output_type": "stream",
     "text": [
      "29/29 [==============================] - 1s 51ms/step\n"
     ]
    },
    {
     "data": {
      "image/png": "[encoded data removed]",
      "text/plain": [
       "<Figure size 432x288 with 2 Axes>"
      ]
     },
     "metadata": {
      "needs_background": "light"
     },
     "output_type": "display_data"
    }
   ],
   "source": [
    "model2 = tf.keras.models.load_model('model/model_test_smalldata.h5')\n",
    "\n",
    "simpledata=tf.keras.utils.image_dataset_from_directory(\"Small_dataset/S_datas_labels_cb_bw\",shuffle=False,batch_size=5)\n",
    "predictdata=tf.keras.utils.image_dataset_from_directory(\"Small_dataset/S_prediction_datas_labels_bw\",shuffle=False,batch_size=5)\n",
    "\n",
    "\n",
    "modeltest(model2,predictdata)\n",
    "confusionmatrix(model2,simpledata)"
   ]
  }
 ],
 "metadata": {
  "kernelspec": {
   "display_name": "Python 3.9.12 ('base')",
   "language": "python",
   "name": "python3"
  },
  "language_info": {
   "codemirror_mode": {
    "name": "ipython",
    "version": 3
   },
   "file_extension": ".py",
   "mimetype": "text/x-python",
   "name": "python",
   "nbconvert_exporter": "python",
   "pygments_lexer": "ipython3",
   "version": "3.9.12"
  },
  "orig_nbformat": 4,
  "vscode": {
   "interpreter": {
    "hash": "ad2bdc8ecc057115af97d19610ffacc2b4e99fae6737bb82f5d7fb13d2f2c186"
   }
  }
 },
 "nbformat": 4,
 "nbformat_minor": 2
}
