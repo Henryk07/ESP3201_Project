{
 "cells": [
  {
   "cell_type": "markdown",
   "metadata": {},
   "source": [
    "## Trained Models Tests ##\n",
    "\n",
    "This notebook helps to test different trained models, compare their accuracy and their efficiency."
   ]
  },
  {
   "cell_type": "code",
   "execution_count": 1,
   "metadata": {},
   "outputs": [],
   "source": [
    "# Initialization : importing useful libraries\n",
    "import matplotlib.pyplot as plt\n",
    "import numpy as np\n",
    "import os\n",
    "import PIL\n",
    "import tensorflow as tf\n",
    "import pathlib\n",
    "\n",
    "from tensorflow import keras\n"
   ]
  },
  {
   "cell_type": "code",
   "execution_count": 53,
   "metadata": {},
   "outputs": [],
   "source": [
    "# Model test function\n",
    "# This function takes in argument a saved model and a batch of images to be predicted from a directory\n",
    "\n",
    "def modeltest(model,datatest):\n",
    "\n",
    "    predata = datatest.unbatch()\n",
    "    labels = list(predata.map(lambda x, y: y))\n",
    "    labels_brut=[]\n",
    "\n",
    "    for i in range(len(labels)): # gets the list of the predicted label for each image \n",
    "        labels_brut.append(tf.get_static_value(labels[i]))\n",
    "\n",
    "    dict={0:\"F\",1:\"M\",2:\"N\",3:\"Q\",4:\"S\",5:\"V\"}\n",
    "    prediction = model.predict(datatest) \n",
    "\n",
    "    classes = np.argmax(prediction, axis = 1)\n",
    "\n",
    "    for i,clas in enumerate(classes) :\n",
    "        print(f\"Image {i} || Predicted Disease : \"+dict[clas] +\" || True Disease : \"+dict[labels_brut[i]])  \n",
    "\n",
    "    #print(tf.math.confusion_matrix([0,1,2,3,4,5],prediction)) CONFUSION MATRIX BETWEEN 0 AND 1, see NN_firstresult_withfulldata\n"
   ]
  },
  {
   "cell_type": "markdown",
   "metadata": {},
   "source": [
    "### Model 1 ###\n",
    "\n",
    "// Insert here a scheme of the NN (layers), parameters //\n"
   ]
  },
  {
   "cell_type": "code",
   "execution_count": 56,
   "metadata": {},
   "outputs": [
    {
     "name": "stdout",
     "output_type": "stream",
     "text": [
      "Found 6 files belonging to 6 classes.\n",
      "1/1 [==============================] - 0s 291ms/step\n",
      "Image 0 || Predicted Disease : F || True Disease : F\n",
      "Image 1 || Predicted Disease : M || True Disease : M\n",
      "Image 2 || Predicted Disease : N || True Disease : N\n",
      "Image 3 || Predicted Disease : Q || True Disease : Q\n",
      "Image 4 || Predicted Disease : S || True Disease : S\n",
      "Image 5 || Predicted Disease : V || True Disease : V\n"
     ]
    }
   ],
   "source": [
    "# Model 1 \n",
    "\n",
    "model1 = tf.keras.models.load_model('model/model_20E_fulldata.h5')\n",
    "\n",
    "simpledata=tf.keras.utils.image_dataset_from_directory(\"S_prediction_datas_labels\",shuffle=False)\n",
    "\n",
    "modeltest(model1,simpledata)\n"
   ]
  }
 ],
 "metadata": {
  "kernelspec": {
   "display_name": "Python 3.9.12 ('base')",
   "language": "python",
   "name": "python3"
  },
  "language_info": {
   "codemirror_mode": {
    "name": "ipython",
    "version": 3
   },
   "file_extension": ".py",
   "mimetype": "text/x-python",
   "name": "python",
   "nbconvert_exporter": "python",
   "pygments_lexer": "ipython3",
   "version": "3.9.12"
  },
  "orig_nbformat": 4,
  "vscode": {
   "interpreter": {
    "hash": "ad2bdc8ecc057115af97d19610ffacc2b4e99fae6737bb82f5d7fb13d2f2c186"
   }
  }
 },
 "nbformat": 4,
 "nbformat_minor": 2
}
