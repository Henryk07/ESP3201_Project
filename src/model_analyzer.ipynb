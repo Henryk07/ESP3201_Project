{
 "cells": [
  {
   "cell_type": "markdown",
   "metadata": {},
   "source": [
    "# Model Analyzing #\n",
    "\n",
    "This file is used to plot all important features to analyze the model created for our ECG classification project."
   ]
  },
  {
   "cell_type": "code",
   "execution_count": 12,
   "metadata": {},
   "outputs": [
    {
     "data": {
      "text/plain": [
       "<module 'tools.modtester' from 'c:\\\\Users\\\\valer\\\\OneDrive\\\\Documents\\\\NUS\\\\Machine Learning\\\\ESP3201_Project-1\\\\src\\\\tools\\\\modtester.py'>"
      ]
     },
     "execution_count": 12,
     "metadata": {},
     "output_type": "execute_result"
    }
   ],
   "source": [
    "# Initialization : importing useful libraries\n",
    "import matplotlib.pyplot as plt\n",
    "import numpy as np\n",
    "import os\n",
    "import PIL\n",
    "import tensorflow as tf\n",
    "import pathlib\n",
    "\n",
    "from tensorflow import keras\n",
    "import sys\n",
    "sys.path.append(\"..\") \n",
    "import tools.modtester as tester\n",
    "import importlib\n",
    "importlib.reload(tester)"
   ]
  },
  {
   "cell_type": "markdown",
   "metadata": {},
   "source": [
    "## Model 0 : Balanced Original Data ##\n",
    "\n",
    "For this model, the original balanced dataset with only 803 images from each class has been used, 80% of the data are used for training and 20% for validation and testing.\n",
    "It has been trained for 20 epochs."
   ]
  },
  {
   "cell_type": "code",
   "execution_count": null,
   "metadata": {},
   "outputs": [],
   "source": [
    "# Code for the model 0 here #\n",
    "#importlib.reload(tester)\n",
    "#predictdata0= VAL DATA FOR THIS TRAINING\n",
    "\n",
    "#tester.create_list_of_predictions(\"NEW MODEL PATH\",predictdata0)"
   ]
  },
  {
   "cell_type": "markdown",
   "metadata": {},
   "source": [
    "## Model 1 : Base Case ##\n",
    "\n",
    "For this model, a balanced dataset of 2000 images per class has been used, 80% of the data are used for training and 20% for validation and testing.\n",
    "It has been trained for 20 epochs."
   ]
  },
  {
   "cell_type": "code",
   "execution_count": 17,
   "metadata": {},
   "outputs": [
    {
     "name": "stdout",
     "output_type": "stream",
     "text": [
      "Found 144 files belonging to 6 classes.\n",
      "Using 28 files for validation.\n",
      "              precision    recall  f1-score   support\n",
      "\n",
      "           0       1.00      1.00      1.00         2\n",
      "           1       0.75      1.00      0.86         3\n",
      "           2       1.00      1.00      1.00         6\n",
      "           3       1.00      1.00      1.00         5\n",
      "           4       1.00      0.86      0.92         7\n",
      "           5       1.00      1.00      1.00         5\n",
      "\n",
      "    accuracy                           0.96        28\n",
      "   macro avg       0.96      0.98      0.96        28\n",
      "weighted avg       0.97      0.96      0.97        28\n",
      "\n"
     ]
    },
    {
     "data": {
      "image/png": "[encoded data removed]",
      "text/plain": [
       "<Figure size 432x288 with 2 Axes>"
      ]
     },
     "metadata": {
      "needs_background": "light"
     },
     "output_type": "display_data"
    }
   ],
   "source": [
    "importlib.reload(tester)\n",
    "predictdata1=tf.keras.utils.image_dataset_from_directory(\n",
    "  #\"Full_dataset\\ECG_Image_data_cb_bw\",\n",
    "  #\"Small_dataset\\S_datas_labels_cb_bw\",\n",
    "  \"M_dataset\\S_datas_labels_bw_bal2000\",\n",
    "  labels='inferred',\n",
    "  class_names=[\"F\",\"M\",\"N\",\"Q\",\"S\",\"V\"],\n",
    "  validation_split=0.2,\n",
    "  subset=\"validation\",\n",
    "  seed=123)\n",
    "\n",
    "tester.create_list_of_predictions(\"model\\model_new_20E_8_2_bw.h5\",predictdata1)\n"
   ]
  },
  {
   "cell_type": "markdown",
   "metadata": {},
   "source": [
    "## Model 2 : AugMix - 10 Epochs ##\n",
    "\n",
    "For this model, a balanced dataset of 5000 augmented images per class has been used, 80% of the data are used for training and 20% for validation and testing.\n",
    "It has been trained for 10 epochs."
   ]
  },
  {
   "cell_type": "code",
   "execution_count": 21,
   "metadata": {},
   "outputs": [
    {
     "name": "stdout",
     "output_type": "stream",
     "text": [
      "Found 144 files belonging to 6 classes.\n",
      "Using 28 files for validation.\n",
      "              precision    recall  f1-score   support\n",
      "\n",
      "           0       1.00      1.00      1.00         2\n",
      "           1       0.75      1.00      0.86         3\n",
      "           2       1.00      1.00      1.00         6\n",
      "           3       1.00      1.00      1.00         5\n",
      "           4       1.00      0.86      0.92         7\n",
      "           5       1.00      1.00      1.00         5\n",
      "\n",
      "    accuracy                           0.96        28\n",
      "   macro avg       0.96      0.98      0.96        28\n",
      "weighted avg       0.97      0.96      0.97        28\n",
      "\n"
     ]
    },
    {
     "data": {
      "image/png": "[encoded data removed]",
      "text/plain": [
       "<Figure size 432x288 with 2 Axes>"
      ]
     },
     "metadata": {
      "needs_background": "light"
     },
     "output_type": "display_data"
    }
   ],
   "source": [
    "importlib.reload(tester)\n",
    "predictdata2=tf.keras.utils.image_dataset_from_directory(\n",
    "  #\"Full_dataset\\ECG_Image_data_cb_bw\",\n",
    "  #\"data\\Small_dataset\\S_datas_labels_cb_bw\",\n",
    "  #\"M_dataset\\S_datas_labels_bw_bal2000\",\n",
    "  \"data\\M_dataset\\S_datas_labels_augmented5000\",\n",
    "  labels='inferred',\n",
    "  class_names=[\"F\",\"M\",\"N\",\"Q\",\"S\",\"V\"],\n",
    "  validation_split=0.2,\n",
    "  subset=\"validation\",\n",
    "  color_mode=\"rgb\",\n",
    "  seed=123)\n",
    "\n",
    "tester.create_list_of_predictions(\"model\\model_10E_8_2_bw_augmented.h5\",predictdata2)"
   ]
  },
  {
   "cell_type": "markdown",
   "metadata": {},
   "source": [
    "## Model 3 : AugMix - 20 Epochs ##\n",
    "\n",
    "For this model, a balanced dataset of 5000 augmented images per class has been used, 80% of the data are used for training and 20% for validation and testing.\n",
    "It has been trained for 20 epochs."
   ]
  },
  {
   "cell_type": "code",
   "execution_count": 25,
   "metadata": {},
   "outputs": [
    {
     "name": "stdout",
     "output_type": "stream",
     "text": [
      "Found 144 files belonging to 6 classes.\n",
      "Using 28 files for validation.\n",
      "              precision    recall  f1-score   support\n",
      "\n",
      "           0       1.00      1.00      1.00         2\n",
      "           1       1.00      1.00      1.00         4\n",
      "           2       1.00      1.00      1.00         6\n",
      "           3       1.00      1.00      1.00         5\n",
      "           4       1.00      1.00      1.00         6\n",
      "           5       1.00      1.00      1.00         5\n",
      "\n",
      "    accuracy                           1.00        28\n",
      "   macro avg       1.00      1.00      1.00        28\n",
      "weighted avg       1.00      1.00      1.00        28\n",
      "\n"
     ]
    },
    {
     "data": {
      "image/png": "[encoded data removed]",
      "text/plain": [
       "<Figure size 432x288 with 2 Axes>"
      ]
     },
     "metadata": {
      "needs_background": "light"
     },
     "output_type": "display_data"
    }
   ],
   "source": [
    "importlib.reload(tester)\n",
    "predictdata3=tf.keras.utils.image_dataset_from_directory(\n",
    "  #\"Full_dataset\\ECG_Image_data_cb_bw\",\n",
    "  #\"data\\Small_dataset\\S_datas_labels_cb_bw\",\n",
    "  #\"M_dataset\\S_datas_labels_bw_bal2000\",\n",
    "  \"data\\M_dataset\\S_datas_labels_augmented5000\",\n",
    "  labels='inferred',\n",
    "  class_names=[\"F\",\"M\",\"N\",\"Q\",\"S\",\"V\"],\n",
    "  validation_split=0.2,\n",
    "  subset=\"validation\",\n",
    "  color_mode=\"rgb\",\n",
    "  seed=123)\n",
    "\n",
    "tester.create_list_of_predictions(\"model\\model_20E_8_2_bw_augmented.h5\",predictdata3)"
   ]
  }
 ],
 "metadata": {
  "kernelspec": {
   "display_name": "Python 3.9.12 ('base')",
   "language": "python",
   "name": "python3"
  },
  "language_info": {
   "codemirror_mode": {
    "name": "ipython",
    "version": 3
   },
   "file_extension": ".py",
   "mimetype": "text/x-python",
   "name": "python",
   "nbconvert_exporter": "python",
   "pygments_lexer": "ipython3",
   "version": "3.9.12"
  },
  "orig_nbformat": 4,
  "vscode": {
   "interpreter": {
    "hash": "ad2bdc8ecc057115af97d19610ffacc2b4e99fae6737bb82f5d7fb13d2f2c186"
   }
  }
 },
 "nbformat": 4,
 "nbformat_minor": 2
}
